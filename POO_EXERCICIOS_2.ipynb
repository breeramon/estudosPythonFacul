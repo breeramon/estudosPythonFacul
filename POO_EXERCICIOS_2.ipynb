{
  "nbformat": 4,
  "nbformat_minor": 0,
  "metadata": {
    "colab": {
      "provenance": [],
      "authorship_tag": "ABX9TyMs7UaikANLzooBtJkqqsvd",
      "include_colab_link": true
    },
    "kernelspec": {
      "name": "python3",
      "display_name": "Python 3"
    },
    "language_info": {
      "name": "python"
    }
  },
  "cells": [
    {
      "cell_type": "markdown",
      "metadata": {
        "id": "view-in-github",
        "colab_type": "text"
      },
      "source": [
        "<a href=\"https://colab.research.google.com/github/breeramon/estudosPythonFacul/blob/main/POO_EXERCICIOS_2.ipynb\" target=\"_parent\"><img src=\"https://colab.research.google.com/assets/colab-badge.svg\" alt=\"Open In Colab\"/></a>"
      ]
    },
    {
      "cell_type": "markdown",
      "source": [
        "Codigo feito em sala"
      ],
      "metadata": {
        "id": "tcepBk1Kic1M"
      }
    },
    {
      "cell_type": "code",
      "execution_count": null,
      "metadata": {
        "colab": {
          "base_uri": "https://localhost:8080/"
        },
        "id": "q9xjpplacwER",
        "outputId": "776d4f27-0b9e-467c-c9c5-30d0c64bfa45"
      },
      "outputs": [
        {
          "output_type": "stream",
          "name": "stdout",
          "text": [
            "Nome: Ana \n",
            "Tipo:  \n",
            "Endereço: rua A\n",
            "*=*=*=*=*=*=*=*=*=*=*=*=*=*=*=*=*=*=*=*=*=*=*=*=*=*=*=*=*=*=\n",
            "Nome Carlos \n",
            "Tipo: física \n",
            "Endereço: Rua carneirinho123\n",
            "*=*=*=*=*=*=*=*=*=*=*=*=*=*=*=*=*=*=*=*=*=*=*=*=*=*=*=*=*=*=\n",
            "Nome: Dara \n",
            "Tipo: jurídica \n",
            "Endereço: Rua t2\n"
          ]
        }
      ],
      "source": [
        "class Pessoa:\n",
        "  def __init__(self, nome, tipo, endereco):\n",
        "    self.nome = nome\n",
        "    self.tipo = tipo\n",
        "    self.endereco = endereco\n",
        "\n",
        "class Fisica(Pessoa):\n",
        "  def __init__(self, nome, endereco, cpf):\n",
        "    Pessoa.__init__(self, nome, 'física', endereco)\n",
        "    self.cpf = cpf\n",
        "\n",
        "class Juridica(Pessoa):\n",
        "  def __init__(self, nome, endereco, cnpj):\n",
        "    Pessoa.__init__(self, nome, 'jurídica', endereco)\n",
        "    self.cnpj = cnpj\n",
        "\n",
        "if __name__ == \"__main__\":\n",
        "  pessoa1 = Pessoa('Ana', '', 'rua A')\n",
        "  print('Nome:', pessoa1.nome, '\\nTipo:', pessoa1.tipo,\n",
        "        '\\nEndereço:', pessoa1.endereco)\n",
        "  \n",
        "  print('*=' *30)\n",
        "\n",
        "  pessoa2 = Fisica('Carlos', 'Rua carneirinho123', '00000000000')\n",
        "  print('Nome', pessoa2.nome, '\\nTipo:', pessoa2.tipo,\n",
        "        '\\nEndereço:', pessoa2.endereco)\n",
        "  \n",
        "  print('*=' *30)\n",
        "\n",
        "  pessoa3 = Juridica('Dara', 'Rua t2', '11111111111111111')\n",
        "  print('Nome:', pessoa3.nome, '\\nTipo:', pessoa3.tipo,\n",
        "        '\\nEndereço:', pessoa3.endereco)"
      ]
    },
    {
      "cell_type": "markdown",
      "source": [
        "1° QUESTÃO - EXERCICIO DE SALA "
      ],
      "metadata": {
        "id": "KH5hbIDMh9zy"
      }
    },
    {
      "cell_type": "code",
      "source": [
        "class Animal:\n",
        "  def __init__(self, nome, especie):\n",
        "    self.nome = nome\n",
        "    self.especie = especie\n",
        "    self.perseguir = False\n",
        "    self.odiar = False\n",
        "\n",
        "  def getNome(self):\n",
        "    return self.nome\n",
        "\n",
        "  def getEspecie(self):\n",
        "    return self.especie\n",
        "\n",
        "  def ExibirDados(self):\n",
        "    print(f'O nome = {self.nome}')\n",
        "    print(f'A espécie = {self.especie}')\n",
        "\n",
        "class Cachorro(Animal):\n",
        "  def __init__(self, nome, persegueGatos):\n",
        "    Animal.__init__(self, nome, 'cachorro')\n",
        "    self.persegueGatos = persegueGatos\n",
        "\n",
        "  def PerseguirGatos(self):\n",
        "    return self.persegueGatos\n",
        "\n",
        "class Gato(Animal):\n",
        "  def __init__(self, nome, odeiaCachorro):\n",
        "    Animal.__init__(self, nome, 'gato')\n",
        "    self.odeiaCachorro = odeiaCachorro\n",
        "\n",
        "  def OdiarCachorro(self):\n",
        "    return self.odeiaCachorro\n",
        "\n",
        "if __name__ == \"__main__\":\n",
        "  animal1 = Animal('Jimo','Cachorro' )\n",
        "\n",
        "  print('GET -', animal1.getNome())\n",
        "\n",
        "  print('GET -', animal1.getEspecie())\n",
        "\n",
        "  animal1.ExibirDados()\n",
        "\n",
        "  print('-=' * 30)\n",
        "\n",
        "  animal2 = Gato('Leon', 'sim')\n",
        "  print('Nome:', animal2.nome, '\\nEspecie:', animal2.especie)\n",
        "  print('Odeia cachorros?')\n",
        "  print(animal2.OdiarCachorro())\n",
        "\n",
        "  print('-=' * 30)\n",
        "\n",
        "  animal3 = Cachorro('Lata', 'sim')\n",
        "  print('Nome:', animal3.nome, '\\nEspecie:', animal3.especie)\n",
        "  print('Persegue gatos?')\n",
        "  print(animal3.PerseguirGatos())"
      ],
      "metadata": {
        "colab": {
          "base_uri": "https://localhost:8080/"
        },
        "id": "F7ZBJAksh9Yb",
        "outputId": "baaf24ed-98db-4831-8ace-e8844e90d2fa"
      },
      "execution_count": null,
      "outputs": [
        {
          "output_type": "stream",
          "name": "stdout",
          "text": [
            "GET - Jimo\n",
            "GET - Cachorro\n",
            "O nome = Jimo\n",
            "A espécie = Cachorro\n",
            "-=-=-=-=-=-=-=-=-=-=-=-=-=-=-=-=-=-=-=-=-=-=-=-=-=-=-=-=-=-=\n",
            "Nome: Leon \n",
            "Especie: gato\n",
            "Odeia cachorros?\n",
            "sim\n",
            "-=-=-=-=-=-=-=-=-=-=-=-=-=-=-=-=-=-=-=-=-=-=-=-=-=-=-=-=-=-=\n",
            "Nome: Lata \n",
            "Especie: cachorro\n",
            "Persegue gatos?\n",
            "sim\n"
          ]
        }
      ]
    },
    {
      "cell_type": "markdown",
      "source": [
        "2° QUESTÃO"
      ],
      "metadata": {
        "id": "2Pq5qVTw4mxe"
      }
    },
    {
      "cell_type": "code",
      "source": [
        "class Veiculo:\n",
        "  def __init__(self, tipo, modelo, fabricante, capacidade):\n",
        "    self.tipo = tipo\n",
        "    self.modelo = modelo\n",
        "    self.fabricante = fabricante\n",
        "    self.capacidade = capacidade\n",
        "\n",
        "  def getModelo(self):\n",
        "    return self.modelo\n",
        "\n",
        "  def getCapacidade(self):\n",
        "    return self.capacidade\n",
        "\n",
        "  def getQuantidadesPassageirosAbordo(self, passageiros):\n",
        "    self.passageiros = passageiros\n",
        "    return self.passageiros\n",
        "\n",
        "  def getQuantidadeAssentosDisponiveis(self):\n",
        "    self.assentos = self.capacidade - self.passageiros\n",
        "    return self.assentos\n",
        "\n",
        "  def setRemoverTodosPassageiros(self):\n",
        "    self.passageiros = self.passageiros - self.passageiros\n",
        "    return self.passageiros\n",
        "\n",
        "  def setEmbarcarPassageiros(self, quantidadePassageirosEmbarcar):\n",
        "    self.passageiros = quantidadePassageirosEmbarcar\n",
        "    return ''\n",
        "\n",
        "  def setRemoverPassageiros(self, quantidadePassageirosRemover):\n",
        "    self.quantidadePassageirosRemover = self.passageiros - quantidadePassageirosRemover\n",
        "    return self.quantidadePassageirosRemover\n",
        "\n",
        "class Carro(Veiculo):\n",
        "  def __init__(self, modelo, fabricante, capacidade):\n",
        "    Veiculo.__init__(self, 'Carro', modelo, fabricante, capacidade)\n",
        "\n",
        "  def EmbarcarPassageiro(self,passageirosParaEmbarcar, nomeMotorista):\n",
        "    self.passageirosParaEmbarcar = passageirosParaEmbarcar\n",
        "    self.nomeMotorista = nomeMotorista\n",
        "    return (f'Passageiros a embarcar = {self.passageirosParaEmbarcar}, Nome do motorista = {self.nomeMotorista}')\n",
        "\n",
        "  def Dirigir(self):\n",
        "    print('Nome do Motorista:', self.nomeMotorista, '\\nModelo do carro:', self.modelo, \n",
        "          '\\nPassageiros que vão Embarcar:', self.passageirosParaEmbarcar)\n",
        "    return ''\n",
        "\n",
        "class Aviao(Veiculo):\n",
        "  def __init__(self, modelo, fabricante, capacidade):\n",
        "    Veiculo.__init__(self, 'Avião', modelo, fabricante, capacidade)\n",
        "\n",
        "  def Decolar(self):\n",
        "    print('O avião está decolando', '\\nQuantidade de passageiros = ',self.passageiros )\n",
        "    return ''\n",
        "\n",
        "if __name__=='__main__':\n",
        "  veiculo1 = Veiculo('Carro', 'Q3', 'Audi', 5)\n",
        "  print(veiculo1.getModelo())\n",
        "  print(veiculo1.getCapacidade())\n",
        "  print(veiculo1.getQuantidadesPassageirosAbordo(3))\n",
        "  print(veiculo1.getQuantidadeAssentosDisponiveis())\n",
        "  print(f'Antes tinha {veiculo1.getQuantidadesPassageirosAbordo(3)} passageiros, agora sobrou {veiculo1.setRemoverPassageiros(2)} passageiros')\n",
        "  print(veiculo1.setEmbarcarPassageiros(1))\n",
        "\n",
        "  print('='*50)\n",
        "\n",
        "  print('CARROS')\n",
        "  veiculo2 = Carro('Uno', 'Fiat', 5)\n",
        "  print(veiculo2.getModelo())\n",
        "  print(veiculo2.fabricante)\n",
        "  print(veiculo2.getCapacidade())\n",
        "  print(veiculo2.getQuantidadesPassageirosAbordo(2))\n",
        "  print(veiculo2.EmbarcarPassageiro(2, 'Fer'))\n",
        "  print('='*50)\n",
        "  print(veiculo2.Dirigir())\n",
        "  print('='*50)\n",
        "  veiculoA = Carro('Prisma', 'Chevrolet', 5)\n",
        "  print(veiculoA.getModelo())\n",
        "  print(veiculoA.fabricante)\n",
        "  print(veiculoA.getCapacidade())\n",
        "  print(veiculoA.getQuantidadesPassageirosAbordo(1))\n",
        "  print(veiculoA.EmbarcarPassageiro(2, 'Lorena'))\n",
        "  print(veiculoA.Dirigir())\n",
        "\n",
        "  print('='*50)\n",
        "\n",
        "  print('AVIÃO')\n",
        "  veiculo3 = Aviao('LATAM', 'Airbus', 150)\n",
        "  print(veiculo3.getModelo())\n",
        "  print(veiculo3.fabricante)\n",
        "  print(veiculo3.getCapacidade())\n",
        "  print(veiculo3.getQuantidadesPassageirosAbordo(100))\n",
        "  print(veiculo3.setRemoverPassageiros(20))\n",
        "  #print(veiculo3.setRemoverTodosPassageiros())\n",
        "  print(veiculo3.getQuantidadeAssentosDisponiveis())\n",
        "  print(veiculo3.Decolar())\n",
        "\n",
        "  print('='*50)\n",
        "\n",
        "  veiculo4 = Aviao('AZUL', 'Airbus', 330)\n",
        "  print(veiculo4.getModelo())\n",
        "  print(veiculo4.fabricante)\n",
        "  print(veiculo4.getCapacidade())\n",
        "  print(veiculo4.getQuantidadesPassageirosAbordo(200))\n",
        "  print(veiculo4.getQuantidadeAssentosDisponiveis())\n",
        "  print(veiculo4.Decolar())"
      ],
      "metadata": {
        "id": "UAUil3hx4pPl",
        "colab": {
          "base_uri": "https://localhost:8080/"
        },
        "outputId": "56423c86-1b0f-4991-b16e-56adaf02488e"
      },
      "execution_count": 26,
      "outputs": [
        {
          "output_type": "stream",
          "name": "stdout",
          "text": [
            "Q3\n",
            "5\n",
            "3\n",
            "2\n",
            "Antes tinha 3 passageiros, agora sobrou 1 passageiros\n",
            "\n",
            "==================================================\n",
            "CARROS\n",
            "Uno\n",
            "Fiat\n",
            "5\n",
            "2\n",
            "Passageiros a embarcar = 2, Nome do motorista = Fer\n",
            "==================================================\n",
            "Nome do Motorista: Fer \n",
            "Modelo do carro: Uno \n",
            "Passageiros que vão Embarcar: 2\n",
            "\n",
            "==================================================\n",
            "Prisma\n",
            "Chevrolet\n",
            "5\n",
            "1\n",
            "Passageiros a embarcar = 2, Nome do motorista = Lorena\n",
            "Nome do Motorista: Lorena \n",
            "Modelo do carro: Prisma \n",
            "Passageiros que vão Embarcar: 2\n",
            "\n",
            "==================================================\n",
            "AVIÃO\n",
            "LATAM\n",
            "Airbus\n",
            "150\n",
            "100\n",
            "80\n",
            "50\n",
            "O avião está decolando \n",
            "Quantidade de passageiros =  100\n",
            "\n",
            "==================================================\n",
            "AZUL\n",
            "Airbus\n",
            "330\n",
            "200\n",
            "130\n",
            "O avião está decolando \n",
            "Quantidade de passageiros =  200\n",
            "\n"
          ]
        }
      ]
    }
  ]
}