{
  "nbformat": 4,
  "nbformat_minor": 0,
  "metadata": {
    "colab": {
      "provenance": [],
      "collapsed_sections": [],
      "authorship_tag": "ABX9TyNBml3BZqy38oc4wmOmAuad",
      "include_colab_link": true
    },
    "kernelspec": {
      "name": "python3",
      "display_name": "Python 3"
    },
    "language_info": {
      "name": "python"
    }
  },
  "cells": [
    {
      "cell_type": "markdown",
      "metadata": {
        "id": "view-in-github",
        "colab_type": "text"
      },
      "source": [
        "<a href=\"https://colab.research.google.com/github/breeramon/estudosPythonFacul/blob/main/POO_Exercicios.ipynb\" target=\"_parent\"><img src=\"https://colab.research.google.com/assets/colab-badge.svg\" alt=\"Open In Colab\"/></a>"
      ]
    },
    {
      "cell_type": "markdown",
      "source": [
        "#atributos = informações, caracteristicas do objeto ou de algo / classe\n",
        "#metodos = comportamentos\n"
      ],
      "metadata": {
        "id": "6uJskKX9XJaE"
      }
    },
    {
      "cell_type": "markdown",
      "source": [
        "1° QUESTÃO"
      ],
      "metadata": {
        "id": "37Fz7KmH-y2C"
      }
    },
    {
      "cell_type": "code",
      "source": [],
      "metadata": {
        "id": "PvOnTNH45p4-"
      },
      "execution_count": null,
      "outputs": []
    },
    {
      "cell_type": "code",
      "execution_count": 22,
      "metadata": {
        "id": "ie5onPKNW5l1",
        "colab": {
          "base_uri": "https://localhost:8080/"
        },
        "outputId": "6aaaf526-c6ea-4e9c-e239-2c229bcff483"
      },
      "outputs": [
        {
          "output_type": "stream",
          "name": "stdout",
          "text": [
            "O carro ligou\n",
            "A distancia percorrida foi de 30 quilômetros, a quantidade do combustivel era de 100 litros , depois da distancia percorrida o carro ficou com 40 litros.\n",
            "A quantidade de litros antes era de 20 litros, depois de abastecer ficou 60\n",
            "Audi\n",
            "50\n",
            "O carro freiou!\n",
            "Agora o carro está na quarta marcha.\n"
          ]
        }
      ],
      "source": [
        "class Veiculo():\n",
        "  #construtor\n",
        "  def __init__(self, cor, marca, modelo, ano, tipoCombustivel, quantidadePortas, velocidade, consumo, combustivel):\n",
        "    self.cor = cor\n",
        "    self.marca = marca\n",
        "    self.modelo = modelo\n",
        "    self.ano = ano\n",
        "    self.tipoCombustivel = tipoCombustivel\n",
        "    self.quantidadePortas = quantidadePortas\n",
        "    self.velocidade = velocidade\n",
        "    self.consumo = consumo\n",
        "    self.combustivel = 0\n",
        "    self.ligado = False\n",
        "    self.freio = False\n",
        "\n",
        "    #metodos\n",
        "  def Ligar(self):\n",
        "    if self.ligado == False:\n",
        "      self.ligado == True\n",
        "      print('O carro ligou')\n",
        "    else:\n",
        "      self.ligado == True\n",
        "      print('O carro já estava ligado')\n",
        "\n",
        "  def Desligar(self):\n",
        "    if self.ligado == True:\n",
        "      self.ligado == False\n",
        "      print('O carro desligou!')\n",
        "    else:\n",
        "      self.ligado = False\n",
        "\n",
        "  def Acelerar(self, distancia, combustivel: float):\n",
        "    consumo = self.consumo * distancia\n",
        "    self.combustivel = combustivel - consumo\n",
        "    print(f'A distancia percorrida foi de {distancia} quilômetros, a quantidade do combustivel era de {combustivel} litros , depois da distancia percorrida o carro ficou com {self.combustivel} litros.')\n",
        "\n",
        "  def Abastecer(self, combustivel):\n",
        "    self.combustivel = self.combustivel + combustivel\n",
        "    print(f'A quantidade de litros antes era de {combustivel} litros, depois de abastecer ficou {self.combustivel}')\n",
        "\n",
        "  def Freiar(self):\n",
        "    if self.freio == False:\n",
        "      self.freio == True\n",
        "      print('O carro freiou!')\n",
        "    else:\n",
        "      print('O carro está em movimento!')\n",
        "\n",
        "  def mudarMarcha(self, velocidade: float):\n",
        "    if velocidade > 0 and velocidade < 10:\n",
        "      print('O carro está na primeira marcha.')\n",
        "    if velocidade > 10 and velocidade < 30:\n",
        "      print('Agora o carro está na segunda marcha.')\n",
        "    if velocidade > 30 and velocidade < 50:\n",
        "      print('Agora o carro está na terceira marcha.')\n",
        "    if velocidade > 50 and velocidade < 80:\n",
        "      print('Agora o carro está na quarta marcha.')\n",
        "    if velocidade > 80:\n",
        "      print('Agora o carro está na quinta marcha.')\n",
        "\n",
        "if __name__ == '__main__':\n",
        "  veiculo = Veiculo('Branco', 'Audi', 'Q3', 2019, 'Gasolina', 4, 50, 2, 10)\n",
        "  veiculo.Ligar()\n",
        "  veiculo.Desligar()\n",
        "  veiculo.Acelerar(30, 100)\n",
        "  veiculo.Abastecer(20)\n",
        "  print(veiculo.marca)\n",
        "  print(veiculo.velocidade)\n",
        "  veiculo.Freiar()\n",
        "  veiculo.mudarMarcha(51)\n",
        "\n"
      ]
    },
    {
      "cell_type": "markdown",
      "source": [
        "2° QUESTÃO"
      ],
      "metadata": {
        "id": "uGIjwE2P7Hr2"
      }
    },
    {
      "cell_type": "code",
      "source": [
        "class Retangulo():\n",
        "\n",
        "  def __init__(self, comprimento, largura):\n",
        "    self.comprimento = comprimento\n",
        "    self.largura = largura\n",
        "\n",
        "  def Perimetro(self, comprimento, largura: int):\n",
        "    totalPerimetro = 2*(comprimento + largura)\n",
        "    return totalPerimetro\n",
        "\n",
        "  def Area(self,largura, comprimento: int):\n",
        "    totalArea = largura * comprimento\n",
        "    return totalArea\n",
        "\n",
        "  def ExibirDados(self):\n",
        "    print(f'O comprimento do retângulo é = {self.comprimento}')\n",
        "    print(f'A largura do retângulo é = {self.largura}')\n",
        "    retangulo1 = Retangulo(2, 3)\n",
        "    print(f'O perímetro do retângulo é = {retangulo1.Perimetro(2, 3)}')\n",
        "    print(f'A área do retângulo é = {retangulo1.Area(2, 3)}')\n",
        "\n",
        "if __name__ == '__main__':\n",
        "  retangulo = Retangulo(2, 3)\n",
        "  retangulo.Perimetro(2, 3)\n",
        "  retangulo.Area(2, 3)\n",
        "  retangulo.ExibirDados()"
      ],
      "metadata": {
        "colab": {
          "base_uri": "https://localhost:8080/"
        },
        "id": "VDHBkM6W7KEz",
        "outputId": "3a41239d-1b36-44a9-aff2-e48a66752017"
      },
      "execution_count": 36,
      "outputs": [
        {
          "output_type": "stream",
          "name": "stdout",
          "text": [
            "O comprimento do retângulo é = 2\n",
            "A largura do retângulo é = 3\n",
            "O perímetro do retângulo é = 10\n",
            "A área do retângulo é = 6\n"
          ]
        }
      ]
    },
    {
      "cell_type": "markdown",
      "source": [
        "3° QUESTÃO"
      ],
      "metadata": {
        "id": "e6CTAmKZSdhY"
      }
    },
    {
      "cell_type": "code",
      "source": [
        "class Elevador():\n",
        "\n",
        "  def __init__(self, andar):\n",
        "    terreo = 0\n",
        "    self.andar = andar\n",
        "\n",
        "  def Inicializar():"
      ],
      "metadata": {
        "id": "g1fgFQTuSg_N"
      },
      "execution_count": null,
      "outputs": []
    }
  ]
}