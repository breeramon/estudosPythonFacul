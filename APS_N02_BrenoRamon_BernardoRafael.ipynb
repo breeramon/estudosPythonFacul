{
  "nbformat": 4,
  "nbformat_minor": 0,
  "metadata": {
    "colab": {
      "provenance": [],
      "authorship_tag": "ABX9TyMsG3q7vu9urTTGbvhRphfz",
      "include_colab_link": true
    },
    "kernelspec": {
      "name": "python3",
      "display_name": "Python 3"
    },
    "language_info": {
      "name": "python"
    }
  },
  "cells": [
    {
      "cell_type": "markdown",
      "metadata": {
        "id": "view-in-github",
        "colab_type": "text"
      },
      "source": [
        "<a href=\"https://colab.research.google.com/github/breeramon/estudosPythonFacul/blob/main/APS_N02_BrenoRamon_BernardoRafael.ipynb\" target=\"_parent\"><img src=\"https://colab.research.google.com/assets/colab-badge.svg\" alt=\"Open In Colab\"/></a>"
      ]
    },
    {
      "cell_type": "code",
      "execution_count": 11,
      "metadata": {
        "colab": {
          "base_uri": "https://localhost:8080/"
        },
        "id": "1RgpCAWlfzQW",
        "outputId": "a4b3efa2-88da-480d-d8df-7f57e2d5cef4"
      },
      "outputs": [
        {
          "output_type": "stream",
          "name": "stdout",
          "text": [
            "CIRCULO 1\n",
            "15.700000000000001\n",
            "31.400000000000002\n",
            "10\n",
            "47\n",
            "O ponto não pertence ao centro do circulo\n",
            "\n",
            "==============================\n",
            "CIRCULO 2\n",
            "12.56\n",
            "25.12\n",
            "8\n",
            "2\n",
            "O ponto não pertence ao centro do circulo\n",
            "\n",
            "==============================\n",
            "CIRCULO 3\n",
            "18.84\n",
            "37.68\n",
            "12\n",
            "25\n",
            "O ponto não pertence ao centro do circulo\n",
            "\n"
          ]
        }
      ],
      "source": [
        "class Circulo:\n",
        "  def __init__(self, raio, coordenadaA, coordenadaB):\n",
        "    self.raio = raio\n",
        "    self.coordenadaA = coordenadaA\n",
        "    self.coordenadaB = coordenadaB\n",
        "\n",
        "  def Area(self):\n",
        "    pi = 3.14\n",
        "    A = pi * self.raio\n",
        "    return A\n",
        "\n",
        "  def Perimetro(self):\n",
        "    pi = 3.14\n",
        "    P = 2 * pi * self.raio\n",
        "    return P\n",
        "\n",
        "  def Diametro(self):\n",
        "    D = 2 * self.raio\n",
        "    return D\n",
        "\n",
        "  def Centro(self, x, y):\n",
        "    self.x = x\n",
        "    self.y = y\n",
        "    centro = (x - self.coordenadaA)**2 + (y - self.coordenadaB)**2 - self.raio**2\n",
        "    return centro\n",
        "\n",
        "  def PontoPertence(self , x, y):\n",
        "    self.x = x\n",
        "    self.y = y\n",
        "    self.Centro(x, y)\n",
        "    if self.Centro(x, y) == self.raio:\n",
        "      print('O ponto pertence ao centro do circulo')\n",
        "    else:\n",
        "      print('O ponto não pertence ao centro do circulo')\n",
        "      return ''\n",
        "\n",
        "\n",
        "if __name__ == \"__main__\":\n",
        "  circulo1 = Circulo(5, 8, 9)\n",
        "  print('CIRCULO 1')\n",
        "  print(circulo1.Area())\n",
        "  print(circulo1.Perimetro())\n",
        "  print(circulo1.Diametro())\n",
        "  print(circulo1.Centro(2, 3))\n",
        "  print(circulo1.PontoPertence(2, 3))\n",
        "\n",
        "  print('='*30)\n",
        "\n",
        "  circulo2 = Circulo(4, 7, 8)\n",
        "  print('CIRCULO 2') \n",
        "  print(circulo2.Area())\n",
        "  print(circulo2.Perimetro())\n",
        "  print(circulo2.Diametro())\n",
        "  print(circulo2.Centro(4, 5))\n",
        "  print(circulo2.PontoPertence(4, 5))\n",
        "\n",
        "  print('='*30)\n",
        "\n",
        "  circulo3 = Circulo(6, 9, 10)\n",
        "  print('CIRCULO 3')\n",
        "  print(circulo3.Area())\n",
        "  print(circulo3.Perimetro())\n",
        "  print(circulo3.Diametro())\n",
        "  print(circulo3.Centro(3, 5))\n",
        "  print(circulo3.PontoPertence(3, 5))"
      ]
    }
  ]
}